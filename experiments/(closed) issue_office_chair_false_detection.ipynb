{
 "cells": [
  {
   "cell_type": "markdown",
   "metadata": {},
   "source": [
    "## Issue: office chair false detection\n",
    "椅子误检\n",
    "\n",
    "![](docs/mc6630_xrs%E4%BA%BA%E5%BD%A2%E8%AF%AF%E6%8A%A5%E5%9C%BA%E6%99%AF.jpg)\n",
    "\n",
    "注意到两个框方向不对齐，猜测是拍摄了已有结果的测试视频，再重新做目标检测。如果是这样，需要问下中间的框是否由我们的算法生成\n"
   ]
  },
  {
   "cell_type": "markdown",
   "metadata": {},
   "source": [
    "针对室内场景，处理并添加了IndoorCVPR_09数据集"
   ]
  },
  {
   "cell_type": "markdown",
   "metadata": {},
   "source": [
    "处理效果：\n",
    "![](docs/%E6%88%AA%E5%B1%8F2022-06-29%20%E4%B8%8B%E5%8D%883.31.26.png)\n",
    "\n",
    "从仅有的误报数据看，椅子误检问题消失\n"
   ]
  }
 ],
 "metadata": {
  "language_info": {
   "name": "python"
  },
  "orig_nbformat": 4
 },
 "nbformat": 4,
 "nbformat_minor": 2
}
