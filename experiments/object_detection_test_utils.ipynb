{
 "cells": [
  {
   "cell_type": "markdown",
   "metadata": {},
   "source": [
    "## Object Detection Test Utils"
   ]
  },
  {
   "cell_type": "code",
   "execution_count": 1,
   "metadata": {},
   "outputs": [],
   "source": [
    "import torch.nn as nn\n",
    "from object_detection.training_utils.default_settings import DefaultSettings\n",
    "\n",
    "from test_utils.detection_test import full_dataset_test, video_test, camera_test\n",
    "from test_utils.video_loader import YUV420_VID_LOADER"
   ]
  },
  {
   "cell_type": "code",
   "execution_count": 2,
   "metadata": {},
   "outputs": [
    {
     "name": "stdout",
     "output_type": "stream",
     "text": [
      "transferred 349/349 items from yolov5n_sd.pt\n"
     ]
    }
   ],
   "source": [
    "import object_detection.yolov5_ultralytics.model as yolo_u\n",
    "\n",
    "yolo_u.ACTIVATION = nn.SiLU\n",
    "model = yolo_u.yolov5n(80, weights=\"yolov5n_sd.pt\").eval()"
   ]
  },
  {
   "cell_type": "code",
   "execution_count": 3,
   "metadata": {},
   "outputs": [
    {
     "name": "stdout",
     "output_type": "stream",
     "text": [
      "../datasets/FH_test_walking_day_night/test_frames/images/1_01_A_20220310171644_0.png\n"
     ]
    },
    {
     "name": "stderr",
     "output_type": "stream",
     "text": [
      "/opt/homebrew/anaconda3/envs/dev/lib/python3.9/site-packages/torch/functional.py:445: UserWarning: torch.meshgrid: in an upcoming release, it will be required to pass the indexing argument. (Triggered internally at  /Users/distiller/project/conda/conda-bld/pytorch_1639180852547/work/aten/src/ATen/native/TensorShape.cpp:2157.)\n",
      "  return _VF.meshgrid(tensors, **kwargs)  # type: ignore[attr-defined]\n"
     ]
    },
    {
     "name": "stdout",
     "output_type": "stream",
     "text": [
      "../datasets/FH_test_walking_day_night/test_frames/images/1_01_A_20220310171644_1.png\n",
      "../datasets/FH_test_walking_day_night/test_frames/images/1_01_A_20220310171644_2.png\n",
      "../datasets/FH_test_walking_day_night/test_frames/images/1_01_A_20220310171644_3.png\n"
     ]
    }
   ],
   "source": [
    "# Full dataset test\n",
    "full_dataset_test(model, \"../datasets/FH_test_walking_day_night/test_frames/images\", class_names=DefaultSettings.names)"
   ]
  },
  {
   "cell_type": "code",
   "execution_count": 4,
   "metadata": {},
   "outputs": [],
   "source": [
    "# Video test\n",
    "loader = YUV420_VID_LOADER(\"/Users/sh/Downloads/1280x720_2.yuv\", (720, 1280))\n",
    "video_test(model, loader, class_names=DefaultSettings.names, fps=16)"
   ]
  },
  {
   "cell_type": "code",
   "execution_count": 5,
   "metadata": {},
   "outputs": [
    {
     "name": "stdout",
     "output_type": "stream",
     "text": [
      "size: (1280, 720)\n"
     ]
    },
    {
     "name": "stderr",
     "output_type": "stream",
     "text": [
      "[W NNPACK.cpp:79] Could not initialize NNPACK! Reason: Unsupported hardware.\n"
     ]
    }
   ],
   "source": [
    "# Camera test\n",
    "camera_test(model, class_names=DefaultSettings.names, inf_size=480)"
   ]
  }
 ],
 "metadata": {
  "kernelspec": {
   "display_name": "Python 3.9.7 ('dev')",
   "language": "python",
   "name": "python3"
  },
  "language_info": {
   "codemirror_mode": {
    "name": "ipython",
    "version": 3
   },
   "file_extension": ".py",
   "mimetype": "text/x-python",
   "name": "python",
   "nbconvert_exporter": "python",
   "pygments_lexer": "ipython3",
   "version": "3.9.7"
  },
  "orig_nbformat": 4,
  "vscode": {
   "interpreter": {
    "hash": "058a51316eac12967ddac68b311aabbfc7d6a8fa593f70d9be248e3565e03bc1"
   }
  }
 },
 "nbformat": 4,
 "nbformat_minor": 2
}
