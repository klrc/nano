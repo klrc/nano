{
 "cells": [
  {
   "cell_type": "markdown",
   "metadata": {},
   "source": [
    "## Issue: aggressive detection\n",
    "测试yolov5n时发现，搭载了relu函数版本的yolov5n(自己训练)相比原版，有很多不确定框\n",
    "\n",
    "| ![](docs/Jun-28-2022%2017-16-11.gif) | ![](docs/Jun-28-2022%2017-16-31.gif) |\n",
    "| -- | -- |\n",
    "| 原版(SiLU) | 自行训练(ReLU) |"
   ]
  },
  {
   "cell_type": "markdown",
   "metadata": {},
   "source": [
    "简单检查后发现，所有yolov5u的激活函数都没改（仍是SiLU），需要重新finetune后再检查结果。正在训练的定性实验先等跑完，可以用来评估上界。\n",
    "\n",
    "将v5n的激活函数替换为SiLU，误检仍有很多，可能还存在别的原因。\n",
    "\n"
   ]
  }
 ],
 "metadata": {
  "language_info": {
   "name": "python"
  },
  "orig_nbformat": 4
 },
 "nbformat": 4,
 "nbformat_minor": 2
}
