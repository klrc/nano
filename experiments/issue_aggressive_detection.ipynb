{
 "cells": [
  {
   "cell_type": "markdown",
   "metadata": {},
   "source": [
    "## Issue: aggressive detection\n",
    "测试yolov5n时发现，搭载了relu函数版本的yolov5n(自己训练)相比原版，有很多不确定框\n",
    "\n",
    "| ![](docs/Jun-28-2022%2017-16-11.gif) | ![](docs/Jun-28-2022%2017-16-31.gif) |\n",
    "| -- | -- |\n",
    "| 原版(SiLU) | 自行训练(ReLU) |"
   ]
  }
 ],
 "metadata": {
  "language_info": {
   "name": "python"
  },
  "orig_nbformat": 4
 },
 "nbformat": 4,
 "nbformat_minor": 2
}
